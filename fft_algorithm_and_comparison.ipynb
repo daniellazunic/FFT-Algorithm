{
  "nbformat": 4,
  "nbformat_minor": 0,
  "metadata": {
    "colab": {
      "name": "zunic_final_project.ipynb",
      "provenance": [],
      "toc_visible": true
    },
    "kernelspec": {
      "name": "python3",
      "display_name": "Python 3"
    },
    "language_info": {
      "name": "python"
    }
  },
  "cells": [
    {
      "cell_type": "markdown",
      "source": [
        "# Daniella Zunic's Final Project: Implementation of FFT from Scratch"
      ],
      "metadata": {
        "id": "1QivOuGdOlGb"
      }
    },
    {
      "cell_type": "markdown",
      "source": [
        "# Imports"
      ],
      "metadata": {
        "id": "Qd59MkHwOtfj"
      }
    },
    {
      "cell_type": "code",
      "source": [
        "import numpy as np\n",
        "import matplotlib.pyplot as plt\n",
        "import time\n",
        "from time import perf_counter\n",
        "from statistics import mean\n",
        "from matplotlib.axis import Axis"
      ],
      "metadata": {
        "id": "WHDEID1-OxGG"
      },
      "execution_count": null,
      "outputs": []
    },
    {
      "cell_type": "markdown",
      "source": [
        "# DFT Function"
      ],
      "metadata": {
        "id": "aTtg3LF5Ozu6"
      }
    },
    {
      "cell_type": "code",
      "source": [
        "def dft(x):\n",
        "    N = len(x)\n",
        "    n = np.arange(N)\n",
        "    k = n.reshape((N, 1))\n",
        "    mult = np.exp(-1j * ((2*np.pi)/N) * k * n)\n",
        "    X = np.dot(mult, x)\n",
        "    return X"
      ],
      "metadata": {
        "id": "6nZMffk-O3GY"
      },
      "execution_count": null,
      "outputs": []
    },
    {
      "cell_type": "markdown",
      "source": [
        "# FFT Function"
      ],
      "metadata": {
        "id": "7Ia19B0OO8o4"
      }
    },
    {
      "cell_type": "code",
      "execution_count": null,
      "metadata": {
        "id": "jH0QD5s5OkMr"
      },
      "outputs": [],
      "source": [
        "def fft(x):\n",
        "    #takes 1D array input\n",
        "    #Base Case\n",
        "    length = len(x)\n",
        "    \n",
        "    if length == 1:\n",
        "        return x\n",
        "\n",
        "    elif length % 2 != 0:\n",
        "        raise ValueError(\"The size of the array must be a power of 2.\")\n",
        "\n",
        "    #Divide Part\n",
        "    even = [i for index, i in enumerate(x) if index%2==0]\n",
        "    odd = [i for index, i in enumerate(x) if index%2!=0]\n",
        "\n",
        "    #Conquer Part\n",
        "    even_result = fft(even)\n",
        "    odd_result = fft(odd)\n",
        "\n",
        "    new_array = np.zeros(length, dtype = 'complex')\n",
        "    n = 1\n",
        "    n_term = np.exp((-2*np.pi*1j)/length)\n",
        "\n",
        "    #Combination Part\n",
        "    for i in range(length//2):\n",
        "        new_term = (n * odd_result[i])\n",
        "        new_array[i] = even_result[i] + new_term\n",
        "        new_array[i + length//2] = even_result[i] - new_term\n",
        "        n *= n_term\n",
        "    return new_array"
      ]
    },
    {
      "cell_type": "markdown",
      "source": [
        "# Time 1,000 Trials"
      ],
      "metadata": {
        "id": "gygLAEhePES9"
      }
    },
    {
      "cell_type": "code",
      "source": [
        "def timed_trials():\n",
        "    time1 = []\n",
        "    time2 = []\n",
        "    time3 = []\n",
        "    averages = []\n",
        "\n",
        "    #For Loop of 1,000 Trials\n",
        "    for i in range(1000):\n",
        "        x = np.random.random(1024)\n",
        "\n",
        "        #DFT Timer\n",
        "        tic1 = time.perf_counter()\n",
        "        result1 = dft(x)\n",
        "        toc1 = time.perf_counter()\n",
        "\n",
        "        #FFT Timer\n",
        "        tic2 = time.perf_counter()\n",
        "        result2 = fft(x)\n",
        "        toc2 = time.perf_counter()\n",
        "\n",
        "        #Numpy FFT Timer\n",
        "        tic3 = time.perf_counter()\n",
        "        result3 = np.fft.fft(x)\n",
        "        toc3 = time.perf_counter()\n",
        "\n",
        "        #Calculates the Actual Times\n",
        "        actual_time1 = toc1 - tic1\n",
        "        actual_time2 = toc2 - tic2\n",
        "        actual_time3 = toc3 - tic3\n",
        "\n",
        "        #Keeps Track of all 1,000 Times for each Function\n",
        "        time1.append(actual_time1)\n",
        "        time2.append(actual_time2)\n",
        "        time3.append(actual_time3)\n",
        "\n",
        "    #Finds the Average Time of 1,000 Trials for each Function\n",
        "    average_time_dft = mean(time1)\n",
        "    average_time_fft = mean(time2)\n",
        "    average_time_numpy_fft = mean(time3)\n",
        "\n",
        "    #Saves the Averages as a List\n",
        "    averages.extend([average_time_dft, average_time_fft, average_time_numpy_fft])\n",
        "    \n",
        "    return averages, time1, time2, time3"
      ],
      "metadata": {
        "id": "iZkiO9xLPGtJ"
      },
      "execution_count": null,
      "outputs": []
    },
    {
      "cell_type": "markdown",
      "source": [
        "# Line Plot Comparisons Function"
      ],
      "metadata": {
        "id": "TgjfRhHnPJNw"
      }
    },
    {
      "cell_type": "code",
      "source": [
        "def line_plots(dft_times, fft_times, numpy_fft_times):\n",
        "    x = len(dft_times)\n",
        "    plt.plot(dft_times, label = 'DFT', color = 'red')\n",
        "    plt.plot(fft_times, label = 'FFT', color = 'green')\n",
        "    plt.plot(numpy_fft_times, label = \"Numpy's FFT\", color = 'blue')\n",
        "\n",
        "    plt.title('Function Time Comparisons (Trials = 1,000; Array Sizes = 1024)')\n",
        "    plt.xlabel('Trial Number')\n",
        "    plt.ylabel('Times (Seconds)')\n",
        "    plt.legend()\n",
        "    \n",
        "    plt.show()"
      ],
      "metadata": {
        "id": "JieKmd1iPPzZ"
      },
      "execution_count": null,
      "outputs": []
    },
    {
      "cell_type": "markdown",
      "source": [
        "# Table Comparisons Function"
      ],
      "metadata": {
        "id": "ESAo_tIJPR3P"
      }
    },
    {
      "cell_type": "code",
      "source": [
        "def averages_table(averages):\n",
        "    fig, ax = plt.subplots()\n",
        "    table_data = [\n",
        "        ['Function', 'Average Time For The 1,000 Trials'],\n",
        "        [\"DFT\", str(round(averages[0],6)) + ' seconds'],\n",
        "        ['FFT', str(round(averages[1],6)) + ' seconds'],\n",
        "        [\"Numpy's FFT\", \"{:.6f}\".format(float(averages[2])) + ' seconds']\n",
        "    ]\n",
        "\n",
        "    table = ax.table(cellText = table_data, loc = 'center')\n",
        "    \n",
        "    table[(0, 0)].set_facecolor(\"#1ac3f5\")\n",
        "    table[(0, 1)].set_facecolor('#eafff5')\n",
        "    \n",
        "    table.set_fontsize(25)\n",
        "    table.scale(2,2)\n",
        "    ax.axis('off')\n",
        "\n",
        "    plt.show()"
      ],
      "metadata": {
        "id": "Ua63BYBDPVC0"
      },
      "execution_count": null,
      "outputs": []
    },
    {
      "cell_type": "markdown",
      "source": [
        "# Time Complexity Comparison Function"
      ],
      "metadata": {
        "id": "b7MvvuXzPaMU"
      }
    },
    {
      "cell_type": "code",
      "source": [
        "#Times the FFT Function\n",
        "def timer(x):\n",
        "  new_tic = time.perf_counter()\n",
        "  new_result = fft(x)\n",
        "  new_toc = time.perf_counter()\n",
        "  new_actual_time = new_toc - new_tic\n",
        "  return new_actual_time\n",
        "\n",
        "#Compares O(nlogn) versus FFT Times\n",
        "def time_complexity_comparison():\n",
        "    x_axis = list(range(2, 1024))\n",
        "    powers = [2**j for j in range(1,11)]\n",
        "\n",
        "    #O(nlogn) Times\n",
        "    log_time = []\n",
        "    for i in powers:\n",
        "        time = i * np.log(i)\n",
        "        log_time.append(time)\n",
        "\n",
        "    #FFT Times\n",
        "    fft_time = []\n",
        "    for i in powers:\n",
        "        x = np.random.random(i)\n",
        "        new_actual_time = timer(x)\n",
        "        fft_time.append(new_actual_time)\n",
        "\n",
        "    #Plotting the Lines\n",
        "\n",
        "    figure, axis = plt.subplots(2, 1)\n",
        "\n",
        "    axis[0].plot(powers, log_time, 'tab:orange')\n",
        "    axis[0].set_title('O(nlogn) Complexity')\n",
        "\n",
        "    axis[1].plot(powers, fft_time, 'tab:purple')\n",
        "    axis[1].set_title('FFT Times')   \n",
        "    \n",
        "    for axis in axis.flat:\n",
        "      axis.set(xlabel= 'Input Size (Must be a Power of 2)', ylabel = 'Time / Operations')\n",
        "      axis.label_outer()\n",
        "\n",
        "    plt.show()"
      ],
      "metadata": {
        "id": "3ogxT130Pguo"
      },
      "execution_count": null,
      "outputs": []
    },
    {
      "cell_type": "markdown",
      "source": [
        "# Testing : Ensure Functions Yield Same Results"
      ],
      "metadata": {
        "id": "BKvg_ZbWh2Db"
      }
    },
    {
      "cell_type": "code",
      "source": [
        "x = np.random.random(8)\n",
        "print('Input Array of size', str(len(x)), '=', x)\n",
        "print()\n",
        "print('\\033[91m' + 'DFT Result =' + '\\033[0m' , dft(x))\n",
        "print()\n",
        "print('\\033[92m' + 'FFT Result =' + '\\033[0m', fft(x))\n",
        "print()\n",
        "print('\\033[94m' + 'Numpy FFT Result =' + '\\033[0m' , np.fft.fft(x))\n",
        "\n",
        "print()\n",
        "print('\\033[1m' +'\\033[4m'+ 'Do the results match?' + '\\033[0m' + ' (Using numpy.allclose())')\n",
        "print(np.allclose(fft(x), np.fft.fft(x)))"
      ],
      "metadata": {
        "colab": {
          "base_uri": "https://localhost:8080/"
        },
        "id": "HFfYY5fnh1vn",
        "outputId": "a30bed65-64ec-476f-c940-c3c8415b1224"
      },
      "execution_count": null,
      "outputs": [
        {
          "output_type": "stream",
          "name": "stdout",
          "text": [
            "Input Array of size 8 = [0.19875771 0.75259603 0.27482308 0.7548091  0.06760167 0.23855459\n",
            " 0.65505471 0.31569989]\n",
            "\n",
            "\u001b[91mDFT Result =\u001b[0m [ 3.25789677+0.00000000e+00j  0.18414114-2.93747658e-01j\n",
            " -0.66351841+7.93583759e-02j  0.07817095-1.05421091e+00j\n",
            " -0.86542245-2.04432060e-16j  0.07817095+1.05421091e+00j\n",
            " -0.66351841-7.93583759e-02j  0.18414114+2.93747658e-01j]\n",
            "\n",
            "\u001b[92mFFT Result =\u001b[0m [ 3.25789677+0.j          0.18414114-0.29374766j -0.66351841+0.07935838j\n",
            "  0.07817095-1.05421091j -0.86542245+0.j          0.07817095+1.05421091j\n",
            " -0.66351841-0.07935838j  0.18414114+0.29374766j]\n",
            "\n",
            "\u001b[94mNumpy FFT Result =\u001b[0m [ 3.25789677+0.j          0.18414114-0.29374766j -0.66351841+0.07935838j\n",
            "  0.07817095-1.05421091j -0.86542245+0.j          0.07817095+1.05421091j\n",
            " -0.66351841-0.07935838j  0.18414114+0.29374766j]\n",
            "\n",
            "\u001b[1m\u001b[4mDo the results match?\u001b[0m (Using numpy.allclose())\n",
            "True\n"
          ]
        }
      ]
    },
    {
      "cell_type": "markdown",
      "source": [
        "# Main Function"
      ],
      "metadata": {
        "id": "0OXCyhFjPxi1"
      }
    },
    {
      "cell_type": "markdown",
      "source": [
        "## Save Results of the timed_trials Function\n"
      ],
      "metadata": {
        "id": "uY0WUpAPmekF"
      }
    },
    {
      "cell_type": "code",
      "source": [
        "averages, dft_times, fft_times, numpy_fft_times = timed_trials()"
      ],
      "metadata": {
        "id": "2R2yZiEcP0Ee"
      },
      "execution_count": null,
      "outputs": []
    },
    {
      "cell_type": "markdown",
      "source": [
        "## Display Results of the line_plots Function"
      ],
      "metadata": {
        "id": "QhTLtC4xmocM"
      }
    },
    {
      "cell_type": "code",
      "source": [
        "line_plots(dft_times, fft_times, numpy_fft_times)"
      ],
      "metadata": {
        "colab": {
          "base_uri": "https://localhost:8080/",
          "height": 295
        },
        "id": "t53nd-pzQtef",
        "outputId": "d7bc81f2-f8c6-47b7-b0ba-4a24afbf9933"
      },
      "execution_count": null,
      "outputs": [
        {
          "output_type": "display_data",
          "data": {
            "text/plain": [
              "<Figure size 432x288 with 1 Axes>"
            ],
            "image/png": "[encoded data removed]"
          },
          "metadata": {
            "needs_background": "light"
          }
        }
      ]
    },
    {
      "cell_type": "markdown",
      "source": [
        "## Display Results of the averages_table Function"
      ],
      "metadata": {
        "id": "3x1rDKH5mvcw"
      }
    },
    {
      "cell_type": "code",
      "source": [
        "averages_table(averages)"
      ],
      "metadata": {
        "colab": {
          "base_uri": "https://localhost:8080/",
          "height": 248
        },
        "id": "-5JmTyKARYpQ",
        "outputId": "910b036f-7b5c-41ee-96b1-e6818a79e582"
      },
      "execution_count": null,
      "outputs": [
        {
          "output_type": "display_data",
          "data": {
            "text/plain": [
              "<Figure size 432x288 with 1 Axes>"
            ],
            "image/png": "[encoded data removed]"
          },
          "metadata": {
            "needs_background": "light"
          }
        }
      ]
    },
    {
      "cell_type": "markdown",
      "source": [
        "## Display Results of the time_complexity_comparison Function"
      ],
      "metadata": {
        "id": "YknnDEg_m0wM"
      }
    },
    {
      "cell_type": "code",
      "source": [
        "time_complexity_comparison()"
      ],
      "metadata": {
        "colab": {
          "base_uri": "https://localhost:8080/",
          "height": 295
        },
        "id": "m-CWVG6KStdC",
        "outputId": "5127af9f-9d2e-43eb-b674-498f4868f775"
      },
      "execution_count": null,
      "outputs": [
        {
          "output_type": "display_data",
          "data": {
            "text/plain": [
              "<Figure size 432x288 with 2 Axes>"
            ],
            "image/png": "[encoded data removed]"
          },
          "metadata": {
            "needs_background": "light"
          }
        }
      ]
    }
  ]
}